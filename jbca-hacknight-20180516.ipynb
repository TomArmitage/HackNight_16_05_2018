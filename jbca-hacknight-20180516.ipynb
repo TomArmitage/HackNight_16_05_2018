{
 "cells": [
  {
   "cell_type": "markdown",
   "metadata": {},
   "source": [
    "# Hack-Night Kick-off"
   ]
  },
  {
   "cell_type": "markdown",
   "metadata": {},
   "source": [
    "### *A notebook which you can take as a starting point in your exploration of our data.*"
   ]
  },
  {
   "cell_type": "markdown",
   "metadata": {},
   "source": [
    "Boilerplate code which sets python up with the functionality we need."
   ]
  },
  {
   "cell_type": "code",
   "execution_count": null,
   "metadata": {
    "collapsed": true
   },
   "outputs": [],
   "source": [
    "import math\n",
    "import pandas as pd\n",
    "import matplotlib.pyplot as plt\n",
    "import seaborn as sns\n",
    "import numpy as np\n",
    "\n",
    "import os\n",
    "%matplotlib inline\n",
    "\n",
    "sns.set_style('dark')"
   ]
  },
  {
   "cell_type": "markdown",
   "metadata": {},
   "source": [
    "A couple of convenience variables: the version of the data we want to use."
   ]
  },
  {
   "cell_type": "code",
   "execution_count": null,
   "metadata": {
    "collapsed": true
   },
   "outputs": [],
   "source": [
    "tag      =  '20180420'"
   ]
  },
  {
   "cell_type": "markdown",
   "metadata": {},
   "source": [
    "The directory which holds our data files."
   ]
  },
  {
   "cell_type": "code",
   "execution_count": null,
   "metadata": {
    "collapsed": true
   },
   "outputs": [],
   "source": [
    "plot_dir  =  '.'"
   ]
  },
  {
   "cell_type": "markdown",
   "metadata": {},
   "source": [
    "Read in the table of all the foods people ate."
   ]
  },
  {
   "cell_type": "code",
   "execution_count": null,
   "metadata": {
    "collapsed": false,
    "scrolled": true
   },
   "outputs": [],
   "source": [
    "eaten  =  pd.read_csv (plot_dir + '/eaten_table_' + tag + '.csv',\n",
    "                       encoding='ISO-8859-1')\n",
    "eaten"
   ]
  },
  {
   "cell_type": "markdown",
   "metadata": {},
   "source": [
    "The dataset is complex, so a second table is provided with descriptions of all column names. Below is a convenience function for accessing the 'Descriptions' column for a given column name"
   ]
  },
  {
   "cell_type": "code",
   "execution_count": null,
   "metadata": {
    "collapsed": false,
    "scrolled": true
   },
   "outputs": [],
   "source": [
    "# read in col description table\n",
    "\n",
    "columnDescription = pd.read_csv (plot_dir + '/eaten_table_column_info_' + tag + '.csv',\n",
    "                                 encoding='ISO-8859-1')\n",
    "\n",
    "# function for handling lookups\n",
    "\n",
    "def get_info(colName,CDs = columnDescription):\n",
    "    \"\"\"returns description value from Column Description table\"\"\"\n",
    "    \n",
    "    return CDs.loc[CDs['Names'] == colName]['Descriptions'].values[0]\n",
    "\n",
    "# try it for pork\n",
    "get_info('Pork')"
   ]
  },
  {
   "cell_type": "markdown",
   "metadata": {},
   "source": [
    "# Histograms for basic data exploration\n",
    "Plot a histogram of the time people ate each food item."
   ]
  },
  {
   "cell_type": "code",
   "execution_count": null,
   "metadata": {
    "collapsed": false
   },
   "outputs": [],
   "source": [
    "eaten['MealTime'].hist(bins=24)\n",
    "plt.show()"
   ]
  },
  {
   "cell_type": "markdown",
   "metadata": {},
   "source": [
    "Plot a bar chart of the day number since the person started the survey..."
   ]
  },
  {
   "cell_type": "code",
   "execution_count": null,
   "metadata": {
    "collapsed": false
   },
   "outputs": [],
   "source": [
    "eaten['DayNo'].hist(bins=4)\n",
    "plt.show()"
   ]
  },
  {
   "cell_type": "markdown",
   "metadata": {},
   "source": [
    "...you can see a slight drop-off as some people didn’t complete all 4 days."
   ]
  },
  {
   "cell_type": "markdown",
   "metadata": {},
   "source": [
    "Plot a histogram of the day of the week (Monday = 1 etc)."
   ]
  },
  {
   "cell_type": "code",
   "execution_count": null,
   "metadata": {
    "collapsed": false
   },
   "outputs": [],
   "source": [
    "eaten['DayofWeek'].hist(bins=7)\n",
    "plt.show()"
   ]
  },
  {
   "cell_type": "markdown",
   "metadata": {},
   "source": [
    "# Plot a histogram of the number of kcal of each food item eaten."
   ]
  },
  {
   "cell_type": "code",
   "execution_count": null,
   "metadata": {
    "collapsed": false
   },
   "outputs": [],
   "source": [
    "fig, ax = plt.subplots()\n",
    "eaten['KCALS'].hist(ax=ax)\n",
    "# ax.loglog()\n",
    "plt.show()"
   ]
  },
  {
   "cell_type": "markdown",
   "metadata": {},
   "source": [
    "...has a big spike at zero - due to things like tap water."
   ]
  },
  {
   "cell_type": "markdown",
   "metadata": {},
   "source": [
    "Take a look at the FoodAisle column."
   ]
  },
  {
   "cell_type": "code",
   "execution_count": null,
   "metadata": {
    "collapsed": false,
    "scrolled": true
   },
   "outputs": [],
   "source": [
    "for f in np.unique(eaten['FoodAisle']):\n",
    "    print(f)"
   ]
  },
  {
   "cell_type": "markdown",
   "metadata": {},
   "source": [
    "Each food is assigned one of the above “aisles” (categories). We can use this to work out the average amount of food per day in each FoodAisle. We can also average the kcal of all the foods in this FoodAisle. Ditto GHGE, and nutrients."
   ]
  },
  {
   "cell_type": "markdown",
   "metadata": {},
   "source": [
    "Read in the table containing the average per FoodAisle..."
   ]
  },
  {
   "cell_type": "code",
   "execution_count": null,
   "metadata": {
    "collapsed": false,
    "scrolled": true
   },
   "outputs": [],
   "source": [
    "eaten_table_aisle  =  pd.read_csv (plot_dir + '/eaten_table_aisle_' + tag +'.csv' ,\n",
    "                         encoding='ISO-8859-1')\n",
    "eaten_table_aisle"
   ]
  },
  {
   "cell_type": "markdown",
   "metadata": {},
   "source": [
    "... and the extra column information e.g. RDAs."
   ]
  },
  {
   "cell_type": "code",
   "execution_count": null,
   "metadata": {
    "collapsed": false,
    "scrolled": true
   },
   "outputs": [],
   "source": [
    "eaten_table_aisle_column_info  =  pd.read_csv (plot_dir + '/eaten_table_aisle_column_info_' + tag +'.csv',\n",
    "                                               encoding='ISO-8859-1')\n",
    "eaten_table_aisle_column_info"
   ]
  },
  {
   "cell_type": "markdown",
   "metadata": {},
   "source": [
    "## Plot the amount of KCals consumed per food aisle"
   ]
  },
  {
   "cell_type": "code",
   "execution_count": null,
   "metadata": {
    "collapsed": false,
    "scrolled": true
   },
   "outputs": [],
   "source": [
    "eaten_table_aisle.columns"
   ]
  },
  {
   "cell_type": "code",
   "execution_count": null,
   "metadata": {
    "collapsed": false
   },
   "outputs": [],
   "source": [
    "colname = 'KCALS'\n",
    "# sort table\n",
    "eaten_table_aisle = eaten_table_aisle.sort_values(colname,ascending=False)\n",
    "\n",
    "# plot\n",
    "ax = eaten_table_aisle[colname].plot(kind='bar',color='blue')\n",
    "ax.set_ylabel(colname)\n",
    "\n",
    "# label\n",
    "ax.set_xticklabels(np.array(eaten_table_aisle['FoodAisle'],dtype=str))\n",
    "plt.show()"
   ]
  },
  {
   "cell_type": "markdown",
   "metadata": {},
   "source": [
    "# Stack plots"
   ]
  },
  {
   "cell_type": "markdown",
   "metadata": {},
   "source": [
    "We've already been thinking of ways to visualize the data: our current best effort is in the stack_plotting module, in a file called `stack_plotting.py` which you will have pulled with this repository.  On first reading, step over these details and jump to the quick usage example below.  Once you have seen the whole notebook you may be interested in developing better visualization of the data, and maybe you will want to use this as a jumping-off point...?  You will also read about other options available in our plotting function if you look into that file.\n",
    "\n",
    "Here we start by bringing the module into the notebook."
   ]
  },
  {
   "cell_type": "code",
   "execution_count": null,
   "metadata": {
    "collapsed": false
   },
   "outputs": [],
   "source": [
    "from stack_plotting import stack_plot"
   ]
  },
  {
   "cell_type": "markdown",
   "metadata": {},
   "source": [
    "A quick and simple example of how to use the above function."
   ]
  },
  {
   "cell_type": "code",
   "execution_count": null,
   "metadata": {
    "collapsed": false
   },
   "outputs": [],
   "source": [
    "stack_plot ([[\"Heading 1\", \"A\", \"B\", \"C\"],\n",
    "             [\"Row 1\", 2.3, 3.4, 0.02],\n",
    "             [\"Row 2\", 4.3, 9.3, 0.07],\n",
    "             [\"Row 3\", 2.7, 8, 0.02],\n",
    "             [\"Row 4\", 6.8, 2, 0.03],\n",
    "             [\"Row 5\", 3.1, 4.2, 0.07],\n",
    "             [\"Row 6\", 0.3, 4.2, 0.04],\n",
    "             [\"Row 7\", 3.77, 4.2, 0.06],\n",
    "             [\"Row 8\", 9.3, 9.2, 0.04],\n",
    "             [\"Row 9\", 8.2, 8.2, 0.01]])"
   ]
  },
  {
   "cell_type": "markdown",
   "metadata": {},
   "source": [
    "Now to work.  Stack up the GHGE and kcal for each FoodAisle."
   ]
  },
  {
   "cell_type": "code",
   "execution_count": null,
   "metadata": {
    "collapsed": false
   },
   "outputs": [],
   "source": [
    "#  Assemble three columns.\n",
    "a = eaten_table_aisle['CO2e'].tolist()\n",
    "a.insert(0,'CO2e')\n",
    "\n",
    "b = eaten_table_aisle['FoodAisle'].tolist()\n",
    "b.insert(0,'Food aisle')\n",
    "\n",
    "c = eaten_table_aisle['KCALS'].tolist()\n",
    "c.insert(0,'KCALS')\n",
    "\n",
    "#  Make the plot nice and big.\n",
    "plt.rcParams['figure.figsize'] = [12,8]\n",
    "\n",
    "#  Do the plot.\n",
    "stack_plot (list (zip (a,b,c)))\n",
    "\n",
    "#  Put the plot size back, so we don't upset the rest of this notebook.\n",
    "plt.rcParams['figure.figsize'] = [6,4]"
   ]
  },
  {
   "cell_type": "markdown",
   "metadata": {},
   "source": [
    "# CO2e by age?\n",
    "\n",
    "I was interested to understand if different age categories had different environmental impacts.\n",
    "\n",
    "I averaged over number of individuals in the cohort, and calculated this per day, in order to compensate for any age cohort-specific effect of missing days."
   ]
  },
  {
   "cell_type": "code",
   "execution_count": null,
   "metadata": {
    "collapsed": false
   },
   "outputs": [],
   "source": [
    "eaten['age_cat'] = pd.cut(eaten['Age'], 5)\n",
    "\n",
    "# group by participant and sum co2e of food intake\n",
    "#\n",
    "by_participant = eaten.groupby(['seriali','age_cat','DayNo']).sum()\n",
    "day_mean_by_age_cat =  by_participant.groupby(['age_cat']).mean()['CO2e']\n",
    "day_mean_by_age_cat"
   ]
  },
  {
   "cell_type": "code",
   "execution_count": null,
   "metadata": {
    "collapsed": false
   },
   "outputs": [],
   "source": [
    "ax = day_mean_by_age_cat.plot(kind='bar',color='blue')\n",
    "ax.set_ylim((4000,4500))\n",
    "ax.set_ylabel('Daily emission from consumed food (g CO2e)')\n",
    "ax.set_xlabel('Age category')\n",
    "plt.show()"
   ]
  },
  {
   "cell_type": "markdown",
   "metadata": {},
   "source": [
    "# Non-Linear Clustering Example\n",
    "\n",
    "I wanted to know which foods were nutritionally similar, so decided to represent this using an isomapped projection- a tool for representing high dimensional data in a 2D space.\n"
   ]
  },
  {
   "cell_type": "code",
   "execution_count": null,
   "metadata": {
    "collapsed": false
   },
   "outputs": [],
   "source": [
    "eaten_table_aisle['FoodAisle'].index\n"
   ]
  },
  {
   "cell_type": "code",
   "execution_count": null,
   "metadata": {
    "collapsed": true
   },
   "outputs": [],
   "source": [
    "# first retrieve appropriate features\n",
    "\n",
    "nutritional_vals = ['ACAR', 'BCAR', 'BCRYPT', 'BIOT', 'CA',\n",
    "       'CHO', 'CHOL', 'CL', 'CMON', 'CN3', 'CN6', 'CU', 'ENGFIB', 'FAT', 'FE',\n",
    "       'FOLT', 'FRUCT', 'GLUC', 'HFE', 'I', 'K', 'LACT', 'MALT','KCALS',\n",
    "       'MG', 'MN', 'NA', 'NCF', 'NHFE', 'NIACEQU', 'NMILK', 'OSUG',\n",
    "       'P', 'PANTO', 'PROT', 'RET', 'RIBO', 'SATFA', 'SE', 'STAR', 'SUCR',\n",
    "       'THIA', 'TOTCAR', 'TOTNIT', 'TOTSUG', 'TRANS', 'VITA', 'VITB12',\n",
    "       'VITB6', 'VITC', 'VITD', 'VITE', 'WATER', 'ZN']\n",
    "\n",
    "label = eaten_table_aisle['FoodName'].values\n",
    "X = eaten_table_aisle[nutritional_vals]\n",
    "\n"
   ]
  },
  {
   "cell_type": "code",
   "execution_count": null,
   "metadata": {
    "collapsed": false
   },
   "outputs": [],
   "source": [
    "from sklearn.manifold import LocallyLinearEmbedding\n",
    "Y = LocallyLinearEmbedding(7,2).fit_transform(X)\n",
    "\n",
    "# plot\n",
    "plt.figure(figsize = (12,12))\n",
    "plt.scatter(Y[:,0],Y[:,1],\n",
    "            c=eaten_table_aisle['CO2e'],\n",
    "            cmap='RdYlGn_r',\n",
    "            s=eaten_table_aisle['CO2e'])\n",
    "for i, lab in enumerate(label):\n",
    "    plt.text(Y[i,0],Y[i,1],lab)\n",
    "plt.show()"
   ]
  },
  {
   "cell_type": "markdown",
   "metadata": {},
   "source": [
    "Lets apply the same thing to the whole food dataset:\n"
   ]
  },
  {
   "cell_type": "code",
   "execution_count": null,
   "metadata": {
    "collapsed": true
   },
   "outputs": [],
   "source": [
    "foods  =  pd.read_csv (plot_dir + '/foods_table_' + tag + '.csv',\n",
    "                         encoding='ISO-8859-1')\n",
    "\n",
    "# get rid of na rows for now\n",
    "foods = foods.dropna(axis=0,how='any')"
   ]
  },
  {
   "cell_type": "code",
   "execution_count": null,
   "metadata": {
    "collapsed": true
   },
   "outputs": [],
   "source": [
    "import sklearn.preprocessing as pre\n",
    "label = foods['FoodName'].values\n",
    "\n",
    "# using our list of desired features, extract 2d (obs by feature) array and scale\n",
    "X = pre.RobustScaler().fit_transform(foods[nutritional_vals])"
   ]
  },
  {
   "cell_type": "markdown",
   "metadata": {},
   "source": [
    "Because this is a big dataset, and probably very difficult to cluster, I'm going to set the neighbour classes to 40 and the num components (the dimensionality of the output array to 4). This is all a bit arbitrary, but seems to work..."
   ]
  },
  {
   "cell_type": "code",
   "execution_count": null,
   "metadata": {
    "collapsed": true
   },
   "outputs": [],
   "source": [
    "from sklearn import manifold\n",
    "\n",
    "# we'd expect about 30 classes, so set to 35\n",
    "Y = manifold.LocallyLinearEmbedding(n_neighbors=40,n_components=4,max_iter=10000).fit_transform(X)\n"
   ]
  },
  {
   "cell_type": "code",
   "execution_count": null,
   "metadata": {
    "collapsed": true
   },
   "outputs": [],
   "source": [
    "from scipy.spatial.distance import cdist\n",
    "\n",
    "def find_nearest_foods(X,tabPosition,foodsTable):\n",
    "    distX = cdist(X,X)\n",
    "    leng = distX.shape[0]\n",
    "    vec = distX[tabPosition,:int(leng/2)]\n",
    "    orderedVec = np.argsort(vec)\n",
    "    oNs = np.array(foodsTable['FoodName'])[orderedVec]\n",
    "    co2e = np.array(foodsTable['CO2e'])[orderedVec]\n",
    "    print('The nearest foodstuffs to {} (CO2e={:.2f}) are:\\n\\\n",
    "        \\n1) {}\\n   (CO2e={:.2f})\\\n",
    "        \\n2) {}\\n   (CO2e={:.2f})\\\n",
    "        \\n3) {}\\n   (CO2e={:.2f})\\\n",
    "        \\n4) {}\\n   (CO2e={:.2f})\\\n",
    "        \\n ...'.format(oNs[0],co2e[0],\n",
    "                       oNs[1],co2e[1],\n",
    "                       oNs[2],co2e[2],\n",
    "                       oNs[3],co2e[3],\n",
    "                       oNs[4],co2e[4]))\n",
    "    return None"
   ]
  },
  {
   "cell_type": "markdown",
   "metadata": {},
   "source": [
    "So sometimes this works great:"
   ]
  },
  {
   "cell_type": "code",
   "execution_count": null,
   "metadata": {
    "collapsed": false
   },
   "outputs": [],
   "source": [
    "find_nearest_foods(Y,37,foods)"
   ]
  },
  {
   "cell_type": "code",
   "execution_count": null,
   "metadata": {
    "collapsed": false
   },
   "outputs": [],
   "source": [
    "find_nearest_foods(Y,1500,foods)\n"
   ]
  },
  {
   "cell_type": "markdown",
   "metadata": {},
   "source": [
    "And quite often it's completely wrong:"
   ]
  },
  {
   "cell_type": "code",
   "execution_count": null,
   "metadata": {
    "collapsed": false
   },
   "outputs": [],
   "source": [
    "find_nearest_foods(Y,700,foods)"
   ]
  },
  {
   "cell_type": "markdown",
   "metadata": {},
   "source": [
    "So this is clearly wrong, but imagine how great it would be if it was right..."
   ]
  }
 ],
 "metadata": {
  "kernelspec": {
   "display_name": "Python 3",
   "language": "python",
   "name": "python3"
  },
  "language_info": {
   "codemirror_mode": {
    "name": "ipython",
    "version": 3
   },
   "file_extension": ".py",
   "mimetype": "text/x-python",
   "name": "python",
   "nbconvert_exporter": "python",
   "pygments_lexer": "ipython3",
   "version": "3.6.4"
  }
 },
 "nbformat": 4,
 "nbformat_minor": 2
}
